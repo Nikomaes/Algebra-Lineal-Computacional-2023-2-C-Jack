{
 "cells": [
  {
   "cell_type": "markdown",
   "id": "dbaae749",
   "metadata": {},
   "source": [
    "#### Ej 6"
   ]
  },
  {
   "cell_type": "code",
   "execution_count": 1,
   "id": "f4328610",
   "metadata": {},
   "outputs": [],
   "source": [
    "p=1e34\n",
    "q=1"
   ]
  },
  {
   "cell_type": "code",
   "execution_count": 3,
   "id": "5d24b790",
   "metadata": {},
   "outputs": [
    {
     "name": "stdout",
     "output_type": "stream",
     "text": [
      "1e+34\n",
      "1\n"
     ]
    }
   ],
   "source": [
    "print(p)\n",
    "print(q)"
   ]
  },
  {
   "cell_type": "code",
   "execution_count": 4,
   "id": "cd0f7a31",
   "metadata": {},
   "outputs": [
    {
     "data": {
      "text/plain": [
       "0.0"
      ]
     },
     "execution_count": 4,
     "metadata": {},
     "output_type": "execute_result"
    }
   ],
   "source": [
    "p+q-p"
   ]
  },
  {
   "cell_type": "code",
   "execution_count": 5,
   "id": "dd0b78ae",
   "metadata": {},
   "outputs": [],
   "source": [
    "#b)\n",
    "p=100\n",
    "q=1e-15"
   ]
  },
  {
   "cell_type": "code",
   "execution_count": 6,
   "id": "6ca3e032",
   "metadata": {},
   "outputs": [
    {
     "data": {
      "text/plain": [
       "100.0"
      ]
     },
     "execution_count": 6,
     "metadata": {},
     "output_type": "execute_result"
    }
   ],
   "source": [
    "(p+q)+q"
   ]
  },
  {
   "cell_type": "code",
   "execution_count": 7,
   "id": "0c554abd",
   "metadata": {},
   "outputs": [
    {
     "data": {
      "text/plain": [
       "100.0"
      ]
     },
     "execution_count": 7,
     "metadata": {},
     "output_type": "execute_result"
    }
   ],
   "source": [
    "((p+q)+q)+q"
   ]
  },
  {
   "cell_type": "code",
   "execution_count": 8,
   "id": "ef5ef858",
   "metadata": {},
   "outputs": [
    {
     "data": {
      "text/plain": [
       "100.0"
      ]
     },
     "execution_count": 8,
     "metadata": {},
     "output_type": "execute_result"
    }
   ],
   "source": [
    "p+2*q"
   ]
  },
  {
   "cell_type": "code",
   "execution_count": 10,
   "id": "b338ab14",
   "metadata": {},
   "outputs": [
    {
     "data": {
      "text/plain": [
       "100.0"
      ]
     },
     "execution_count": 10,
     "metadata": {},
     "output_type": "execute_result"
    }
   ],
   "source": [
    "p+3*q"
   ]
  },
  {
   "cell_type": "code",
   "execution_count": 11,
   "id": "27295291",
   "metadata": {},
   "outputs": [
    {
     "data": {
      "text/plain": [
       "100.0000000000003"
      ]
     },
     "execution_count": 11,
     "metadata": {},
     "output_type": "execute_result"
    }
   ],
   "source": [
    "p+300*q"
   ]
  },
  {
   "cell_type": "code",
   "execution_count": 12,
   "id": "5acc51fc",
   "metadata": {},
   "outputs": [],
   "source": [
    "#c)"
   ]
  },
  {
   "cell_type": "code",
   "execution_count": 13,
   "id": "2739312b",
   "metadata": {},
   "outputs": [
    {
     "data": {
      "text/plain": [
       "False"
      ]
     },
     "execution_count": 13,
     "metadata": {},
     "output_type": "execute_result"
    }
   ],
   "source": [
    "0.1+0.2==0.3"
   ]
  },
  {
   "cell_type": "code",
   "execution_count": 14,
   "id": "55c4b90d",
   "metadata": {},
   "outputs": [
    {
     "data": {
      "text/plain": [
       "0.30000000000000004"
      ]
     },
     "execution_count": 14,
     "metadata": {},
     "output_type": "execute_result"
    }
   ],
   "source": [
    "0.1+0.2"
   ]
  },
  {
   "cell_type": "code",
   "execution_count": 15,
   "id": "c8be33c1",
   "metadata": {},
   "outputs": [
    {
     "data": {
      "text/plain": [
       "True"
      ]
     },
     "execution_count": 15,
     "metadata": {},
     "output_type": "execute_result"
    }
   ],
   "source": [
    "#d)\n",
    "0.1+0.3==0.4"
   ]
  },
  {
   "cell_type": "code",
   "execution_count": 16,
   "id": "dfc800d2",
   "metadata": {},
   "outputs": [
    {
     "data": {
      "text/plain": [
       "1e-323"
      ]
     },
     "execution_count": 16,
     "metadata": {},
     "output_type": "execute_result"
    }
   ],
   "source": [
    "#e)\n",
    "1e-323"
   ]
  },
  {
   "cell_type": "code",
   "execution_count": 18,
   "id": "bcb31c3a",
   "metadata": {},
   "outputs": [
    {
     "data": {
      "text/plain": [
       "0.0"
      ]
     },
     "execution_count": 18,
     "metadata": {},
     "output_type": "execute_result"
    }
   ],
   "source": [
    "#f)\n",
    "1e-324"
   ]
  },
  {
   "cell_type": "code",
   "execution_count": 26,
   "id": "26595ea1",
   "metadata": {},
   "outputs": [],
   "source": [
    "#g)\n",
    "import numpy as np"
   ]
  },
  {
   "cell_type": "code",
   "execution_count": 23,
   "id": "2af2e988",
   "metadata": {},
   "outputs": [
    {
     "data": {
      "text/plain": [
       "finfo(resolution=1e-15, min=-1.7976931348623157e+308, max=1.7976931348623157e+308, dtype=float64)"
      ]
     },
     "execution_count": 23,
     "metadata": {},
     "output_type": "execute_result"
    }
   ],
   "source": [
    "np.finfo(np.float)"
   ]
  },
  {
   "cell_type": "code",
   "execution_count": 24,
   "id": "ee591e7c",
   "metadata": {},
   "outputs": [
    {
     "data": {
      "text/plain": [
       "2.220446049250313e-16"
      ]
     },
     "execution_count": 24,
     "metadata": {},
     "output_type": "execute_result"
    }
   ],
   "source": [
    "np.finfo(np.float).eps"
   ]
  },
  {
   "cell_type": "code",
   "execution_count": 27,
   "id": "07df800d",
   "metadata": {},
   "outputs": [
    {
     "data": {
      "text/plain": [
       "2.220446049250313e-16"
      ]
     },
     "execution_count": 27,
     "metadata": {},
     "output_type": "execute_result"
    }
   ],
   "source": [
    "eps = np.finfo(np.float).eps\n",
    "eps"
   ]
  },
  {
   "cell_type": "code",
   "execution_count": 29,
   "id": "b5b0d765",
   "metadata": {},
   "outputs": [
    {
     "data": {
      "text/plain": [
       "1.1102230246251565e-16"
      ]
     },
     "execution_count": 29,
     "metadata": {},
     "output_type": "execute_result"
    }
   ],
   "source": [
    "x=eps/2.\n",
    "x"
   ]
  },
  {
   "cell_type": "code",
   "execution_count": 30,
   "id": "22165f96",
   "metadata": {},
   "outputs": [
    {
     "data": {
      "text/plain": [
       "1.0"
      ]
     },
     "execution_count": 30,
     "metadata": {},
     "output_type": "execute_result"
    }
   ],
   "source": [
    "#h)\n",
    "(1+eps/2)+eps/2"
   ]
  },
  {
   "cell_type": "code",
   "execution_count": 31,
   "id": "6a4cd869",
   "metadata": {},
   "outputs": [
    {
     "data": {
      "text/plain": [
       "1.0000000000000002"
      ]
     },
     "execution_count": 31,
     "metadata": {},
     "output_type": "execute_result"
    }
   ],
   "source": [
    "#i)\n",
    "1+(eps/2 + eps/2)"
   ]
  },
  {
   "cell_type": "code",
   "execution_count": 32,
   "id": "6473ffc8",
   "metadata": {},
   "outputs": [
    {
     "data": {
      "text/plain": [
       "2.220446049250313e-16"
      ]
     },
     "execution_count": 32,
     "metadata": {},
     "output_type": "execute_result"
    }
   ],
   "source": [
    "1+(eps/2 + eps/2)-1"
   ]
  },
  {
   "cell_type": "code",
   "execution_count": 33,
   "id": "81eb07ad",
   "metadata": {},
   "outputs": [
    {
     "data": {
      "text/plain": [
       "0.0"
      ]
     },
     "execution_count": 33,
     "metadata": {},
     "output_type": "execute_result"
    }
   ],
   "source": [
    "#j)\n",
    "((1+eps/2)+eps/2)-1"
   ]
  },
  {
   "cell_type": "code",
   "execution_count": null,
   "id": "7b4e85ba",
   "metadata": {},
   "outputs": [],
   "source": [
    "#k)\n",
    "(1 + (eps/2 + eps/2) - 1"
   ]
  }
 ],
 "metadata": {
  "kernelspec": {
   "display_name": "Python 3 (ipykernel)",
   "language": "python",
   "name": "python3"
  },
  "language_info": {
   "codemirror_mode": {
    "name": "ipython",
    "version": 3
   },
   "file_extension": ".py",
   "mimetype": "text/x-python",
   "name": "python",
   "nbconvert_exporter": "python",
   "pygments_lexer": "ipython3",
   "version": "3.8.3"
  }
 },
 "nbformat": 4,
 "nbformat_minor": 5
}
