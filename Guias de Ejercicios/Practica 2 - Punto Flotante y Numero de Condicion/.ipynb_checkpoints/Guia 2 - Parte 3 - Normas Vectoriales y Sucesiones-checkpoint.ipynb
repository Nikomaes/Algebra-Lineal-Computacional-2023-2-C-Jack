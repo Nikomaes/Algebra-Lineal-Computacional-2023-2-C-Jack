{
 "cells": [
  {
   "cell_type": "code",
   "execution_count": 1,
   "id": "1c91c4e5",
   "metadata": {},
   "outputs": [],
   "source": [
    "import numpy as np\n",
    "import matplotlib.pyplot as plt"
   ]
  },
  {
   "cell_type": "code",
   "execution_count": 34,
   "id": "f28ce001",
   "metadata": {},
   "outputs": [
    {
     "data": {
      "text/plain": [
       "array([[10,  0,  0],\n",
       "       [20,  1,  0],\n",
       "       [30,  0,  1]])"
      ]
     },
     "execution_count": 34,
     "metadata": {},
     "output_type": "execute_result"
    }
   ],
   "source": [
    "A = np.asarray([[10,0,0],\n",
    "                [20,1,0],\n",
    "                [30,0,1]])\n",
    "A"
   ]
  },
  {
   "cell_type": "code",
   "execution_count": 37,
   "id": "f37c9e05",
   "metadata": {},
   "outputs": [],
   "source": [
    "def generador(A):\n",
    "    n = 100\n",
    "    s1 = 0\n",
    "    sk = s1\n",
    "    serie = []\n",
    "    serie.append(sk)\n",
    "    while len(serie) < n:\n",
    "        x = np.random.rand(3, 1)\n",
    "        norm_x = np.linalg.norm(x)\n",
    "        if norm_x > 1 or norm_x == 0:\n",
    "            # genero otro x\n",
    "            continue\n",
    "\n",
    "        normA = np.linalg.norm(A @ x) / norm_x\n",
    "        sk = max(sk, normA)\n",
    "        serie.append(sk)\n",
    "\n",
    "    return serie\n",
    "\n",
    "serie = generador(A)"
   ]
  },
  {
   "cell_type": "code",
   "execution_count": 38,
   "id": "e22c90d3",
   "metadata": {},
   "outputs": [
    {
     "data": {
      "text/plain": [
       "[0,\n",
       " 30.797053815038346,\n",
       " 36.00080607266367,\n",
       " 36.00080607266367,\n",
       " 36.00080607266367,\n",
       " 36.00080607266367,\n",
       " 36.00080607266367,\n",
       " 37.20840896804507,\n",
       " 37.20840896804507,\n",
       " 37.20840896804507,\n",
       " 37.20840896804507,\n",
       " 37.20840896804507,\n",
       " 37.20840896804507,\n",
       " 37.20840896804507,\n",
       " 37.20840896804507,\n",
       " 37.20840896804507,\n",
       " 37.20840896804507,\n",
       " 37.20840896804507,\n",
       " 37.20840896804507,\n",
       " 37.20840896804507,\n",
       " 37.20840896804507,\n",
       " 37.20840896804507,\n",
       " 37.20840896804507,\n",
       " 37.20840896804507,\n",
       " 37.20840896804507,\n",
       " 37.20840896804507,\n",
       " 37.20840896804507,\n",
       " 37.20840896804507,\n",
       " 37.20840896804507,\n",
       " 37.20840896804507,\n",
       " 37.20840896804507,\n",
       " 37.20840896804507,\n",
       " 37.20840896804507,\n",
       " 37.20840896804507,\n",
       " 37.20840896804507,\n",
       " 37.20840896804507,\n",
       " 37.20840896804507,\n",
       " 37.20840896804507,\n",
       " 37.20840896804507,\n",
       " 37.20840896804507,\n",
       " 37.20840896804507,\n",
       " 37.20840896804507,\n",
       " 37.20840896804507,\n",
       " 37.20840896804507,\n",
       " 37.20840896804507,\n",
       " 37.20840896804507,\n",
       " 37.20840896804507,\n",
       " 37.20840896804507,\n",
       " 37.20840896804507,\n",
       " 37.20840896804507,\n",
       " 37.20840896804507,\n",
       " 37.20840896804507,\n",
       " 37.20840896804507,\n",
       " 37.20840896804507,\n",
       " 37.20840896804507,\n",
       " 37.20840896804507,\n",
       " 37.20840896804507,\n",
       " 37.20840896804507,\n",
       " 37.20840896804507,\n",
       " 37.20840896804507,\n",
       " 37.20840896804507,\n",
       " 37.20840896804507,\n",
       " 37.20840896804507,\n",
       " 37.20840896804507,\n",
       " 37.20840896804507,\n",
       " 37.20840896804507,\n",
       " 37.20840896804507,\n",
       " 37.20840896804507,\n",
       " 37.20840896804507,\n",
       " 37.20840896804507,\n",
       " 37.20840896804507,\n",
       " 37.20840896804507,\n",
       " 37.20840896804507,\n",
       " 37.20840896804507,\n",
       " 37.20840896804507,\n",
       " 37.20840896804507,\n",
       " 37.20840896804507,\n",
       " 37.20840896804507,\n",
       " 37.20840896804507,\n",
       " 37.20840896804507,\n",
       " 37.20840896804507,\n",
       " 37.20840896804507,\n",
       " 37.20840896804507,\n",
       " 37.20840896804507,\n",
       " 37.20840896804507,\n",
       " 37.20840896804507,\n",
       " 37.20840896804507,\n",
       " 37.20840896804507,\n",
       " 37.20840896804507,\n",
       " 37.20840896804507,\n",
       " 37.20840896804507,\n",
       " 37.20840896804507,\n",
       " 37.20840896804507,\n",
       " 37.20840896804507,\n",
       " 37.20840896804507,\n",
       " 37.20840896804507,\n",
       " 37.20840896804507,\n",
       " 37.20840896804507,\n",
       " 37.20840896804507,\n",
       " 37.20840896804507]"
      ]
     },
     "execution_count": 38,
     "metadata": {},
     "output_type": "execute_result"
    }
   ],
   "source": [
    "serie"
   ]
  },
  {
   "cell_type": "code",
   "execution_count": 39,
   "id": "f93737e4",
   "metadata": {},
   "outputs": [
    {
     "data": {
      "image/png": "[encoded data removed]",
      "text/plain": [
       "<Figure size 432x288 with 1 Axes>"
      ]
     },
     "metadata": {
      "needs_background": "light"
     },
     "output_type": "display_data"
    }
   ],
   "source": [
    "plt.plot(serie)\n",
    "plt.show()"
   ]
  },
  {
   "cell_type": "code",
   "execution_count": null,
   "id": "f0c8be40",
   "metadata": {},
   "outputs": [],
   "source": []
  }
 ],
 "metadata": {
  "kernelspec": {
   "display_name": "Python 3 (ipykernel)",
   "language": "python",
   "name": "python3"
  },
  "language_info": {
   "codemirror_mode": {
    "name": "ipython",
    "version": 3
   },
   "file_extension": ".py",
   "mimetype": "text/x-python",
   "name": "python",
   "nbconvert_exporter": "python",
   "pygments_lexer": "ipython3",
   "version": "3.8.3"
  }
 },
 "nbformat": 4,
 "nbformat_minor": 5
}
