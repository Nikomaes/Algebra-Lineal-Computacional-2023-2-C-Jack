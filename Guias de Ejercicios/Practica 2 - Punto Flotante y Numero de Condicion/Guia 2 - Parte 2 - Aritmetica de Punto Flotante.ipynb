{
 "cells": [
  {
   "cell_type": "code",
   "execution_count": 79,
   "id": "29e5d401",
   "metadata": {},
   "outputs": [],
   "source": [
    "# Ejercicio 6"
   ]
  },
  {
   "cell_type": "code",
   "execution_count": 1,
   "id": "dc6d68e3",
   "metadata": {},
   "outputs": [],
   "source": [
    "#a)\n",
    "p=1e34\n",
    "q=1"
   ]
  },
  {
   "cell_type": "code",
   "execution_count": 3,
   "id": "91843509",
   "metadata": {},
   "outputs": [
    {
     "name": "stdout",
     "output_type": "stream",
     "text": [
      "1e+34\n",
      "1\n"
     ]
    }
   ],
   "source": [
    "print(p)\n",
    "print(q)"
   ]
  },
  {
   "cell_type": "code",
   "execution_count": 4,
   "id": "6062c79a",
   "metadata": {},
   "outputs": [
    {
     "data": {
      "text/plain": [
       "0.0"
      ]
     },
     "execution_count": 4,
     "metadata": {},
     "output_type": "execute_result"
    }
   ],
   "source": [
    "p+q-p"
   ]
  },
  {
   "cell_type": "code",
   "execution_count": 5,
   "id": "fa3da4c9",
   "metadata": {},
   "outputs": [],
   "source": [
    "#b)\n",
    "p=100\n",
    "q=1e-15"
   ]
  },
  {
   "cell_type": "code",
   "execution_count": 6,
   "id": "6127868d",
   "metadata": {},
   "outputs": [
    {
     "data": {
      "text/plain": [
       "100.0"
      ]
     },
     "execution_count": 6,
     "metadata": {},
     "output_type": "execute_result"
    }
   ],
   "source": [
    "(p+q)+q"
   ]
  },
  {
   "cell_type": "code",
   "execution_count": 7,
   "id": "d951ff7f",
   "metadata": {},
   "outputs": [
    {
     "data": {
      "text/plain": [
       "100.0"
      ]
     },
     "execution_count": 7,
     "metadata": {},
     "output_type": "execute_result"
    }
   ],
   "source": [
    "((p+q)+q)+q"
   ]
  },
  {
   "cell_type": "code",
   "execution_count": 8,
   "id": "0f3ae6bb",
   "metadata": {},
   "outputs": [
    {
     "data": {
      "text/plain": [
       "100.0"
      ]
     },
     "execution_count": 8,
     "metadata": {},
     "output_type": "execute_result"
    }
   ],
   "source": [
    "p+2*q"
   ]
  },
  {
   "cell_type": "code",
   "execution_count": 10,
   "id": "d1e6359f",
   "metadata": {},
   "outputs": [
    {
     "data": {
      "text/plain": [
       "100.0"
      ]
     },
     "execution_count": 10,
     "metadata": {},
     "output_type": "execute_result"
    }
   ],
   "source": [
    "p+3*q"
   ]
  },
  {
   "cell_type": "code",
   "execution_count": 11,
   "id": "d2f7fcad",
   "metadata": {},
   "outputs": [
    {
     "data": {
      "text/plain": [
       "100.0000000000003"
      ]
     },
     "execution_count": 11,
     "metadata": {},
     "output_type": "execute_result"
    }
   ],
   "source": [
    "p+300*q"
   ]
  },
  {
   "cell_type": "code",
   "execution_count": 12,
   "id": "8f6c92d1",
   "metadata": {},
   "outputs": [],
   "source": [
    "#c)"
   ]
  },
  {
   "cell_type": "code",
   "execution_count": 13,
   "id": "a963beb3",
   "metadata": {},
   "outputs": [
    {
     "data": {
      "text/plain": [
       "False"
      ]
     },
     "execution_count": 13,
     "metadata": {},
     "output_type": "execute_result"
    }
   ],
   "source": [
    "0.1+0.2==0.3"
   ]
  },
  {
   "cell_type": "code",
   "execution_count": 14,
   "id": "ae1b0d2c",
   "metadata": {},
   "outputs": [
    {
     "data": {
      "text/plain": [
       "0.30000000000000004"
      ]
     },
     "execution_count": 14,
     "metadata": {},
     "output_type": "execute_result"
    }
   ],
   "source": [
    "0.1+0.2"
   ]
  },
  {
   "cell_type": "code",
   "execution_count": 15,
   "id": "158859c1",
   "metadata": {},
   "outputs": [
    {
     "data": {
      "text/plain": [
       "True"
      ]
     },
     "execution_count": 15,
     "metadata": {},
     "output_type": "execute_result"
    }
   ],
   "source": [
    "#d)\n",
    "0.1+0.3==0.4"
   ]
  },
  {
   "cell_type": "code",
   "execution_count": 16,
   "id": "16992587",
   "metadata": {},
   "outputs": [
    {
     "data": {
      "text/plain": [
       "1e-323"
      ]
     },
     "execution_count": 16,
     "metadata": {},
     "output_type": "execute_result"
    }
   ],
   "source": [
    "#e)\n",
    "1e-323"
   ]
  },
  {
   "cell_type": "code",
   "execution_count": 18,
   "id": "e61cf6c5",
   "metadata": {},
   "outputs": [
    {
     "data": {
      "text/plain": [
       "0.0"
      ]
     },
     "execution_count": 18,
     "metadata": {},
     "output_type": "execute_result"
    }
   ],
   "source": [
    "#f)\n",
    "1e-324"
   ]
  },
  {
   "cell_type": "code",
   "execution_count": 26,
   "id": "4921d869",
   "metadata": {},
   "outputs": [],
   "source": [
    "#g)\n",
    "import numpy as np"
   ]
  },
  {
   "cell_type": "code",
   "execution_count": 23,
   "id": "4abd6acd",
   "metadata": {},
   "outputs": [
    {
     "data": {
      "text/plain": [
       "finfo(resolution=1e-15, min=-1.7976931348623157e+308, max=1.7976931348623157e+308, dtype=float64)"
      ]
     },
     "execution_count": 23,
     "metadata": {},
     "output_type": "execute_result"
    }
   ],
   "source": [
    "np.finfo(np.float)"
   ]
  },
  {
   "cell_type": "code",
   "execution_count": 24,
   "id": "c2771227",
   "metadata": {},
   "outputs": [
    {
     "data": {
      "text/plain": [
       "2.220446049250313e-16"
      ]
     },
     "execution_count": 24,
     "metadata": {},
     "output_type": "execute_result"
    }
   ],
   "source": [
    "np.finfo(np.float).eps"
   ]
  },
  {
   "cell_type": "code",
   "execution_count": 27,
   "id": "ba208b12",
   "metadata": {},
   "outputs": [
    {
     "data": {
      "text/plain": [
       "2.220446049250313e-16"
      ]
     },
     "execution_count": 27,
     "metadata": {},
     "output_type": "execute_result"
    }
   ],
   "source": [
    "eps = np.finfo(np.float).eps\n",
    "eps"
   ]
  },
  {
   "cell_type": "code",
   "execution_count": 29,
   "id": "1e0665a4",
   "metadata": {},
   "outputs": [
    {
     "data": {
      "text/plain": [
       "1.1102230246251565e-16"
      ]
     },
     "execution_count": 29,
     "metadata": {},
     "output_type": "execute_result"
    }
   ],
   "source": [
    "x=eps/2.\n",
    "x"
   ]
  },
  {
   "cell_type": "code",
   "execution_count": 30,
   "id": "5abc2b48",
   "metadata": {},
   "outputs": [
    {
     "data": {
      "text/plain": [
       "1.0"
      ]
     },
     "execution_count": 30,
     "metadata": {},
     "output_type": "execute_result"
    }
   ],
   "source": [
    "#h)\n",
    "(1+eps/2)+eps/2"
   ]
  },
  {
   "cell_type": "code",
   "execution_count": 31,
   "id": "0531ac1e",
   "metadata": {},
   "outputs": [
    {
     "data": {
      "text/plain": [
       "1.0000000000000002"
      ]
     },
     "execution_count": 31,
     "metadata": {},
     "output_type": "execute_result"
    }
   ],
   "source": [
    "#i)\n",
    "1+(eps/2 + eps/2)"
   ]
  },
  {
   "cell_type": "code",
   "execution_count": 32,
   "id": "28fa2af8",
   "metadata": {},
   "outputs": [
    {
     "data": {
      "text/plain": [
       "2.220446049250313e-16"
      ]
     },
     "execution_count": 32,
     "metadata": {},
     "output_type": "execute_result"
    }
   ],
   "source": [
    "1+(eps/2 + eps/2)-1"
   ]
  },
  {
   "cell_type": "code",
   "execution_count": 33,
   "id": "c63821a4",
   "metadata": {},
   "outputs": [
    {
     "data": {
      "text/plain": [
       "0.0"
      ]
     },
     "execution_count": 33,
     "metadata": {},
     "output_type": "execute_result"
    }
   ],
   "source": [
    "#j)\n",
    "((1+eps/2)+eps/2)-1"
   ]
  },
  {
   "cell_type": "code",
   "execution_count": 35,
   "id": "de4e75da",
   "metadata": {},
   "outputs": [
    {
     "data": {
      "text/plain": [
       "2.220446049250313e-16"
      ]
     },
     "execution_count": 35,
     "metadata": {},
     "output_type": "execute_result"
    }
   ],
   "source": [
    "#k)\n",
    "(1 + (eps/2 + eps/2)) - 1"
   ]
  },
  {
   "cell_type": "code",
   "execution_count": 80,
   "id": "55a72373",
   "metadata": {},
   "outputs": [
    {
     "name": "stdout",
     "output_type": "stream",
     "text": [
      "1 -1.2246467991473533e-15\n",
      "2 1.964386723728472e-15\n",
      "3 -3.2141664592756335e-13\n",
      "4 -4.85682353956849e-13\n",
      "5 -3.3960653996302193e-11\n",
      "6 -2.231912181360871e-10\n",
      "7 5.620555424855643e-10\n",
      "8 -3.9082928156687315e-08\n",
      "9 -3.3201412914529495e-08\n",
      "10 -2.2393627619559233e-06\n",
      "11 -1.4764233087791559e-05\n",
      "12 -0.00026971264011324254\n",
      "13 -0.0026971231637969895\n",
      "14 -0.011346020891205282\n",
      "15 -0.2362090532517409\n",
      "16 -0.3752128900123344\n",
      "17 -0.8479696810401983\n",
      "18 -0.6416534819105048\n",
      "19 0.7463367130158111\n",
      "20 -0.3940709604247648\n",
      "21 -0.5808054397535704\n",
      "22 -0.6886746870200211\n",
      "23 -0.7965162588457232\n",
      "24 0.9301407542552305\n",
      "25 0.9948086285918382\n"
     ]
    }
   ],
   "source": [
    "#l)\n",
    "res = []\n",
    "for j in range(1, 26):\n",
    "    x = np.sin(10**j*np.pi)\n",
    "    print(j, x)\n",
    "    res.append(x)"
   ]
  },
  {
   "cell_type": "code",
   "execution_count": 75,
   "id": "f497b213",
   "metadata": {},
   "outputs": [
    {
     "data": {
      "image/png": "[encoded data removed]",
      "text/plain": [
       "<Figure size 432x288 with 1 Axes>"
      ]
     },
     "metadata": {
      "needs_background": "light"
     },
     "output_type": "display_data"
    },
    {
     "name": "stdout",
     "output_type": "stream",
     "text": [
      "Obs: El seno de cualquier múltiplo de pi debería dar cero\n"
     ]
    }
   ],
   "source": [
    "import matplotlib.pyplot as plt\n",
    "plt.plot(res, marker=\"o\")\n",
    "plt.title(r\"$sin(10^j \\pi) : 1 \\leq j \\leq 25$\")\n",
    "plt.xlabel(\"10^j\")\n",
    "plt.ylabel(r\"$sin(10^j \\pi)$\")\n",
    "plt.xticks(ticks=range(1,26),\n",
    "           labels=[f\"10^{j} - {10**j}\" for j in range(1,26)],\n",
    "           rotation=\"vertical\")\n",
    "plt.show()\n",
    "print(\"Obs: El seno de cualquier múltiplo de pi debería dar cero\")"
   ]
  },
  {
   "cell_type": "code",
   "execution_count": 76,
   "id": "6551f248",
   "metadata": {},
   "outputs": [
    {
     "name": "stdout",
     "output_type": "stream",
     "text": [
      "1.0\n",
      "1.0\n",
      "1.0\n",
      "1.0\n",
      "1.0\n",
      "1.0\n",
      "1.0\n",
      "0.9999999999999984\n",
      "0.9999999999999916\n",
      "0.9999999999987206\n",
      "0.9999999999468543\n",
      "0.999999964819047\n",
      "0.9999949407725442\n",
      "0.9998070905094508\n",
      "0.9525593659368664\n",
      "-0.3752128900123344\n",
      "-0.8479696810401983\n",
      "-0.6416534819105048\n",
      "0.7463367130158111\n",
      "-0.3940709604247648\n",
      "-0.5808054397535704\n",
      "-0.6886746870200211\n",
      "-0.7965162588457232\n",
      "0.9301407542552305\n",
      "0.9948086285918382\n"
     ]
    }
   ],
   "source": [
    "#m)\n",
    "res = []\n",
    "for j in range(1, 26):\n",
    "    x = np.sin(np.pi/2 + np.pi * 10**j)\n",
    "    print(x)\n",
    "    res.append(x)"
   ]
  },
  {
   "cell_type": "code",
   "execution_count": 78,
   "id": "e2989a8e",
   "metadata": {},
   "outputs": [
    {
     "data": {
      "image/png": "[encoded data removed]",
      "text/plain": [
       "<Figure size 432x288 with 1 Axes>"
      ]
     },
     "metadata": {
      "needs_background": "light"
     },
     "output_type": "display_data"
    },
    {
     "name": "stdout",
     "output_type": "stream",
     "text": [
      "Obs: El seno de cualquier múltiplo de 3/2 pi debería dar 1\n"
     ]
    }
   ],
   "source": [
    "plt.plot(res, marker=\"o\")\n",
    "plt.title(r\"$sin(\\pi/2 + \\pi 10^j) : 1 \\leq j \\leq 25$\")\n",
    "plt.xlabel(\"10^j\")\n",
    "plt.ylabel(r\"$sin(\\pi/2 + \\pi 10^j)$\")\n",
    "plt.xticks(ticks=range(1,26),\n",
    "           labels=[f\"10^{j} - {10**j}\" for j in range(1,26)],\n",
    "           rotation=\"vertical\")\n",
    "plt.show()\n",
    "print(\"Obs: El seno de cualquier múltiplo de 3/2 pi debería dar 1\")"
   ]
  },
  {
   "cell_type": "code",
   "execution_count": null,
   "id": "6ca0607b",
   "metadata": {},
   "outputs": [],
   "source": []
  }
 ],
 "metadata": {
  "kernelspec": {
   "display_name": "Python 3 (ipykernel)",
   "language": "python",
   "name": "python3"
  },
  "language_info": {
   "codemirror_mode": {
    "name": "ipython",
    "version": 3
   },
   "file_extension": ".py",
   "mimetype": "text/x-python",
   "name": "python",
   "nbconvert_exporter": "python",
   "pygments_lexer": "ipython3",
   "version": "3.8.3"
  }
 },
 "nbformat": 4,
 "nbformat_minor": 5
}
