{
 "cells": [
  {
   "cell_type": "code",
   "execution_count": 3,
   "id": "1c91c4e5",
   "metadata": {},
   "outputs": [],
   "source": [
    "import numpy as np\n",
    "import matplotlib.pyplot as plt"
   ]
  },
  {
   "cell_type": "code",
   "execution_count": 75,
   "id": "f28ce001",
   "metadata": {},
   "outputs": [
    {
     "data": {
      "text/plain": [
       "array([[10,  0,  0],\n",
       "       [20,  1,  0],\n",
       "       [30,  0,  1]])"
      ]
     },
     "execution_count": 75,
     "metadata": {},
     "output_type": "execute_result"
    }
   ],
   "source": [
    "A = np.asarray([[10,0,0],\n",
    "                [20,1,0],\n",
    "                [30,0,1]])\n",
    "A"
   ]
  },
  {
   "cell_type": "code",
   "execution_count": 76,
   "id": "f37c9e05",
   "metadata": {},
   "outputs": [],
   "source": [
    "def generador(A):\n",
    "    n = 100\n",
    "    s1 = 0\n",
    "    sk = s1\n",
    "    serie = []\n",
    "    serie.append(sk)\n",
    "    while len(serie) < n:\n",
    "        x = np.random.rand(3, 1)\n",
    "        norm_x = np.linalg.norm(x, ord=2)\n",
    "        if norm_x > 1 or norm_x == 0:\n",
    "            # genero otro x\n",
    "            continue\n",
    "\n",
    "        normA = np.linalg.norm(A @ x, ord=2) / norm_x\n",
    "        sk = max(sk, normA)\n",
    "        serie.append(sk)\n",
    "\n",
    "    return serie\n",
    "\n",
    "serie = generador(A)"
   ]
  },
  {
   "cell_type": "code",
   "execution_count": 77,
   "id": "32aa976c",
   "metadata": {},
   "outputs": [
    {
     "data": {
      "text/plain": [
       "37.20290061145297"
      ]
     },
     "execution_count": 77,
     "metadata": {},
     "output_type": "execute_result"
    }
   ],
   "source": [
    "serie[-1]"
   ]
  },
  {
   "cell_type": "code",
   "execution_count": null,
   "id": "77204b2a",
   "metadata": {},
   "outputs": [],
   "source": []
  },
  {
   "cell_type": "code",
   "execution_count": null,
   "id": "0215d6cc",
   "metadata": {},
   "outputs": [],
   "source": []
  },
  {
   "cell_type": "code",
   "execution_count": 78,
   "id": "f93737e4",
   "metadata": {},
   "outputs": [
    {
     "data": {
      "image/png": "[encoded data removed]",
      "text/plain": [
       "<Figure size 432x288 with 1 Axes>"
      ]
     },
     "metadata": {
      "needs_background": "light"
     },
     "output_type": "display_data"
    }
   ],
   "source": [
    "plt.plot(serie)\n",
    "plt.hlines(y=np.linalg.norm(A, ord=2), xmin=0, xmax=100, color='r')\n",
    "plt.show()"
   ]
  },
  {
   "cell_type": "code",
   "execution_count": 82,
   "id": "f0c8be40",
   "metadata": {},
   "outputs": [
    {
     "data": {
      "text/plain": [
       "array([[3.  , 0.  , 0.  ],\n",
       "       [0.  , 1.25, 0.75],\n",
       "       [0.  , 0.75, 1.25]])"
      ]
     },
     "execution_count": 82,
     "metadata": {},
     "output_type": "execute_result"
    }
   ],
   "source": [
    "# Ejercicio 19\n",
    "A = np.asarray([[3, 0, 0],\n",
    "                [0, 5/4, 3/4],\n",
    "                [0, 3/4, 5/4]])\n",
    "A"
   ]
  },
  {
   "cell_type": "code",
   "execution_count": 83,
   "id": "b0ab43ba",
   "metadata": {},
   "outputs": [
    {
     "data": {
      "text/plain": [
       "array([[3],\n",
       "       [2],\n",
       "       [2]])"
      ]
     },
     "execution_count": 83,
     "metadata": {},
     "output_type": "execute_result"
    }
   ],
   "source": [
    "b = np.array([[3,2,2]]).T\n",
    "b"
   ]
  },
  {
   "cell_type": "code",
   "execution_count": 84,
   "id": "fa1d85d8",
   "metadata": {},
   "outputs": [
    {
     "data": {
      "text/plain": [
       "array([[1],\n",
       "       [1],\n",
       "       [1]])"
      ]
     },
     "execution_count": 84,
     "metadata": {},
     "output_type": "execute_result"
    }
   ],
   "source": [
    "x = np.array([[1,1,1]]).T\n",
    "x"
   ]
  },
  {
   "cell_type": "code",
   "execution_count": 85,
   "id": "5e8fc354",
   "metadata": {},
   "outputs": [
    {
     "data": {
      "text/plain": [
       "array([[1.],\n",
       "       [1.],\n",
       "       [1.]])"
      ]
     },
     "execution_count": 85,
     "metadata": {},
     "output_type": "execute_result"
    }
   ],
   "source": [
    "np.linalg.solve(A, b)"
   ]
  },
  {
   "cell_type": "code",
   "execution_count": 86,
   "id": "a9c3ae24",
   "metadata": {},
   "outputs": [
    {
     "data": {
      "text/plain": [
       "array([[3.00001],\n",
       "       [2.00001],\n",
       "       [2.00001]])"
      ]
     },
     "execution_count": 86,
     "metadata": {},
     "output_type": "execute_result"
    }
   ],
   "source": [
    "b + 1e-5"
   ]
  },
  {
   "cell_type": "code",
   "execution_count": 87,
   "id": "9ff2e145",
   "metadata": {},
   "outputs": [
    {
     "data": {
      "text/plain": [
       "array([[1.00000333],\n",
       "       [1.000005  ],\n",
       "       [1.000005  ]])"
      ]
     },
     "execution_count": 87,
     "metadata": {},
     "output_type": "execute_result"
    }
   ],
   "source": [
    "np.linalg.solve(A, b + 1e-5)"
   ]
  },
  {
   "cell_type": "code",
   "execution_count": 90,
   "id": "f72c602c",
   "metadata": {},
   "outputs": [],
   "source": [
    "difs = []\n",
    "be = np.sqrt(17) * 1/6 * 10**(-4) # Error relativo calculado\n",
    "while len(difs) < 1000_000:\n",
    "    error = np.random.rand(3, 1)\n",
    "    error_norm = np.linalg.norm(error)\n",
    "    if error_norm >= 1 or error_norm == 0:\n",
    "        continue\n",
    "    # Escalo el error que será menor estricto a 1e-5\n",
    "    error = error * be\n",
    "\n",
    "    b_tilde = b + error\n",
    "\n",
    "    x_tilde = np.linalg.solve(A, b_tilde)\n",
    "\n",
    "    difs.append(np.linalg.norm(x_tilde - x))"
   ]
  },
  {
   "cell_type": "code",
   "execution_count": 103,
   "id": "714ebb78",
   "metadata": {},
   "outputs": [
    {
     "data": {
      "image/png": "[encoded data removed]",
      "text/plain": [
       "<Figure size 432x288 with 1 Axes>"
      ]
     },
     "metadata": {
      "needs_background": "light"
     },
     "output_type": "display_data"
    }
   ],
   "source": [
    "# plot difs array with y axis in between (1 and 2)\n",
    "plt.plot(difs, label=r'$||x - \\tilde x||$')\n",
    "plt.ylim(0.9e-4, 1.001e-4)\n",
    "plt.plot([1e-4] * len(difs), label='1e-4')\n",
    "plt.legend(bbox_to_anchor=(1.05, 1), loc='upper left', borderaxespad=0.)\n",
    "plt.show()"
   ]
  },
  {
   "cell_type": "code",
   "execution_count": null,
   "id": "10a49554",
   "metadata": {},
   "outputs": [],
   "source": []
  }
 ],
 "metadata": {
  "kernelspec": {
   "display_name": "Python 3 (ipykernel)",
   "language": "python",
   "name": "python3"
  },
  "language_info": {
   "codemirror_mode": {
    "name": "ipython",
    "version": 3
   },
   "file_extension": ".py",
   "mimetype": "text/x-python",
   "name": "python",
   "nbconvert_exporter": "python",
   "pygments_lexer": "ipython3",
   "version": "3.8.3"
  }
 },
 "nbformat": 4,
 "nbformat_minor": 5
}
