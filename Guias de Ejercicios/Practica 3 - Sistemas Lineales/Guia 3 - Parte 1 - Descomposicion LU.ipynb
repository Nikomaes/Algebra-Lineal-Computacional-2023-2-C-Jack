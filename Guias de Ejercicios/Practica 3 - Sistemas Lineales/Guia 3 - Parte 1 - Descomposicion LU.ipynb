{
 "cells": [
  {
   "cell_type": "markdown",
   "metadata": {},
   "source": [
    "# Descomposición LU"
   ]
  },
  {
   "cell_type": "code",
   "execution_count": 1,
   "metadata": {},
   "outputs": [],
   "source": [
    "import numpy as np"
   ]
  },
  {
   "cell_type": "code",
   "execution_count": 61,
   "metadata": {},
   "outputs": [
    {
     "data": {
      "text/plain": [
       "array([[1., 2., 3.],\n",
       "       [4., 5., 6.],\n",
       "       [7., 8., 9.]])"
      ]
     },
     "execution_count": 61,
     "metadata": {},
     "output_type": "execute_result"
    }
   ],
   "source": [
    "A = np.asarray([[1., 2, 3], [4, 5, 6], [7, 8, 9]])\n",
    "A"
   ]
  },
  {
   "cell_type": "code",
   "execution_count": 62,
   "metadata": {},
   "outputs": [
    {
     "ename": "SyntaxError",
     "evalue": "invalid syntax (<ipython-input-62-8c0b2c438ca9>, line 4)",
     "output_type": "error",
     "traceback": [
      "\u001b[0;36m  File \u001b[0;32m\"<ipython-input-62-8c0b2c438ca9>\"\u001b[0;36m, line \u001b[0;32m4\u001b[0m\n\u001b[0;31m    if j=0:\u001b[0m\n\u001b[0m        ^\u001b[0m\n\u001b[0;31mSyntaxError\u001b[0m\u001b[0;31m:\u001b[0m invalid syntax\n"
     ]
    }
   ],
   "source": [
    "def Tij(a, i, j, n):\n",
    "    assert j < i and i < n \n",
    "    X = np.eye(n)\n",
    "    if j==0:\n",
    "        X[i, j] = -X[i, i]/a\n",
    "    else:\n",
    "        pass\n",
    "\n",
    "    return X"
   ]
  },
  {
   "cell_type": "code",
   "execution_count": 63,
   "metadata": {},
   "outputs": [
    {
     "data": {
      "text/plain": [
       "array([[ 1.,  0.,  0.],\n",
       "       [-1.,  1.,  0.],\n",
       "       [ 0.,  0.,  1.]])"
      ]
     },
     "execution_count": 63,
     "metadata": {},
     "output_type": "execute_result"
    }
   ],
   "source": [
    "Tij(A[0,0], 1, 0, 3)"
   ]
  },
  {
   "cell_type": "code",
   "execution_count": 64,
   "metadata": {},
   "outputs": [
    {
     "data": {
      "text/plain": [
       "array([[ 1.,  2.,  3.],\n",
       "       [ 0., -3., -6.],\n",
       "       [ 7.,  8.,  9.]])"
      ]
     },
     "execution_count": 64,
     "metadata": {},
     "output_type": "execute_result"
    }
   ],
   "source": [
    "Tij(A[1,0], 1, 0, 3) @ A"
   ]
  },
  {
   "cell_type": "code",
   "execution_count": 65,
   "metadata": {},
   "outputs": [
    {
     "data": {
      "text/plain": [
       "array([[  1.,   2.,   3.],\n",
       "       [  0.,  -3.,  -6.],\n",
       "       [  0.,  -6., -12.]])"
      ]
     },
     "execution_count": 65,
     "metadata": {},
     "output_type": "execute_result"
    }
   ],
   "source": [
    "Tij(A[2,0], 2, 0, 3) @ Tij(A[1,0], 1, 0, 3) @ A"
   ]
  },
  {
   "cell_type": "code",
   "execution_count": 66,
   "metadata": {},
   "outputs": [
    {
     "name": "stdout",
     "output_type": "stream",
     "text": [
      "[[1. 2. 3.]\n",
      " [4. 5. 6.]\n",
      " [7. 8. 9.]]\n",
      "1 0\n",
      "a: 4.0\n",
      "[[ 1.  2.  3.]\n",
      " [ 0. -3. -6.]\n",
      " [ 7.  8.  9.]]\n",
      "2 0\n",
      "a: 7.0\n",
      "[[  1.   2.   3.]\n",
      " [  0.  -3.  -6.]\n",
      " [  0.  -6. -12.]]\n",
      "2 1\n",
      "a: -6.0\n",
      "[[  1.   2.   3.]\n",
      " [  0.  -3.  -6.]\n",
      " [  0. -24. -48.]]\n"
     ]
    },
    {
     "data": {
      "text/plain": [
       "array([[  1.,   2.,   3.],\n",
       "       [  0.,  -3.,  -6.],\n",
       "       [  0., -24., -48.]])"
      ]
     },
     "execution_count": 66,
     "metadata": {},
     "output_type": "execute_result"
    }
   ],
   "source": [
    "A_ = A\n",
    "n = 3\n",
    "print(A_)\n",
    "for j in range(0, n):\n",
    "    for i in range(j+1, n):\n",
    "        print(i,j)\n",
    "        a = A_[i, j]\n",
    "        print('a:', a)\n",
    "        A_ = Tij(a, i, j, 3) @ A_\n",
    "        print(A_)\n",
    "A_"
   ]
  },
  {
   "cell_type": "code",
   "execution_count": 67,
   "metadata": {},
   "outputs": [
    {
     "name": "stdout",
     "output_type": "stream",
     "text": [
      "L: \n",
      " [[1, 0, 0], [4.0, 1, 0], [7.0, 2.0, 1]]\n",
      "U: \n",
      " [[1.0, 2.0, 3.0], [0, -3.0, -6.0], [0, 0, 0.0]]\n"
     ]
    }
   ],
   "source": [
    "def lu_decomposition(A):\n",
    "    # Initialize L and U matrices\n",
    "    n = len(A)\n",
    "    L = [[0]*n for _ in range(n)]\n",
    "    U = [[0]*n for _ in range(n)]\n",
    "\n",
    "    # Compute L and U\n",
    "    for i in range(n):\n",
    "        for j in range(i, n):  # U\n",
    "            U[i][j] = A[i][j] - sum(L[i][k]*U[k][j] for k in range(i))\n",
    "        for j in range(i, n):  # L\n",
    "            if i == j:\n",
    "                L[i][i] = 1  # Diagonal as 1\n",
    "            else:\n",
    "                L[j][i] = (A[j][i] - sum(L[j][k]*U[k][i] for k in range(i))) / U[i][i]\n",
    "\n",
    "    return L, U\n",
    "    \n",
    "L, U = lu_decomposition(A)\n",
    "\n",
    "print(\"L: \\n\", L)\n",
    "print(\"U: \\n\", U)"
   ]
  },
  {
   "cell_type": "code",
   "execution_count": 68,
   "metadata": {},
   "outputs": [
    {
     "name": "stdout",
     "output_type": "stream",
     "text": [
      "LU: \n",
      " [[1. 2. 3.]\n",
      " [4. 5. 6.]\n",
      " [7. 8. 9.]]\n",
      "A: \n",
      " [[1. 2. 3.]\n",
      " [4. 5. 6.]\n",
      " [7. 8. 9.]]\n",
      "LU decomposition is valid\n"
     ]
    }
   ],
   "source": [
    "# Multiply L and U\n",
    "LU = np.dot(L, U)\n",
    "\n",
    "print(\"LU: \\n\", LU)\n",
    "print(\"A: \\n\", A)\n",
    "\n",
    "# Check if A and LU are equal within a tolerance\n",
    "if np.allclose(A, LU):\n",
    "    print(\"LU decomposition is valid\")\n",
    "else:\n",
    "    print(\"LU decomposition is not valid\")"
   ]
  },
  {
   "cell_type": "code",
   "execution_count": 71,
   "metadata": {},
   "outputs": [],
   "source": [
    "\n",
    "def lu(A):\n",
    "    #source: https://johnfoster.pge.utexas.edu/numerical-methods-book/LinearAlgebra_LU.html\n",
    "    #Get the number of rows\n",
    "    n = A.shape[0]\n",
    "    U = A.copy()\n",
    "    L = np.eye(n, dtype=np.double)\n",
    "    #Loop over rows\n",
    "    for i in range(n):    \n",
    "        #Eliminate entries below i with row operations \n",
    "        #on U and reverse the row operations to \n",
    "        #manipulate L\n",
    "        factor = U[i+1:, i] / U[i, i]\n",
    "        L[i+1:, i] = factor\n",
    "        U[i+1:] -= factor[:, np.newaxis] * U[i]\n",
    "    return L, U\n",
    "\n",
    "L,U = lu(A)"
   ]
  },
  {
   "cell_type": "code",
   "execution_count": 73,
   "metadata": {},
   "outputs": [
    {
     "data": {
      "text/plain": [
       "array([[1., 2., 3.],\n",
       "       [4., 5., 6.],\n",
       "       [7., 8., 9.]])"
      ]
     },
     "execution_count": 73,
     "metadata": {},
     "output_type": "execute_result"
    }
   ],
   "source": [
    "L @ U"
   ]
  },
  {
   "cell_type": "code",
   "execution_count": null,
   "metadata": {},
   "outputs": [],
   "source": []
  }
 ],
 "metadata": {
  "colab": {
   "provenance": []
  },
  "kernelspec": {
   "display_name": "Python 3",
   "language": "python",
   "name": "python3"
  },
  "language_info": {
   "codemirror_mode": {
    "name": "ipython",
    "version": 3
   },
   "file_extension": ".py",
   "mimetype": "text/x-python",
   "name": "python",
   "nbconvert_exporter": "python",
   "pygments_lexer": "ipython3",
   "version": "3.8.3"
  }
 },
 "nbformat": 4,
 "nbformat_minor": 4
}
